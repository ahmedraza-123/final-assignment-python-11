{
 "cells": [
  {
   "cell_type": "code",
   "execution_count": null,
   "metadata": {},
   "outputs": [],
   "source": []
  },
  {
   "cell_type": "code",
   "execution_count": 7,
   "metadata": {},
   "outputs": [
    {
     "name": "stdout",
     "output_type": "stream",
     "text": [
      "Q 1 ) the biggest mountain of pakistan is:\n",
      "A)K-2\n",
      "B)HIMALAYA\n",
      "C)NANGA PARBAT\n",
      "D)MOUNT EVEREST\n"
     ]
    },
    {
     "ename": "IndexError",
     "evalue": "list index out of range",
     "output_type": "error",
     "traceback": [
      "\u001b[1;31m---------------------------------------------------------------------------\u001b[0m",
      "\u001b[1;31mIndexError\u001b[0m                                Traceback (most recent call last)",
      "\u001b[1;32m<ipython-input-7-0334ef06b516>\u001b[0m in \u001b[0;36m<module>\u001b[1;34m\u001b[0m\n\u001b[0;32m     35\u001b[0m     \u001b[0mprint\u001b[0m\u001b[1;33m(\u001b[0m\u001b[0mquestion\u001b[0m\u001b[1;33m[\u001b[0m\u001b[1;34m\"OP \"\u001b[0m\u001b[1;33m]\u001b[0m \u001b[1;33m[\u001b[0m\u001b[1;36m2\u001b[0m\u001b[1;33m]\u001b[0m\u001b[1;33m)\u001b[0m\u001b[1;33m\u001b[0m\u001b[1;33m\u001b[0m\u001b[0m\n\u001b[0;32m     36\u001b[0m     \u001b[0mprint\u001b[0m\u001b[1;33m(\u001b[0m\u001b[0mquestion\u001b[0m\u001b[1;33m[\u001b[0m\u001b[1;34m\"OP \"\u001b[0m\u001b[1;33m]\u001b[0m \u001b[1;33m[\u001b[0m\u001b[1;36m3\u001b[0m\u001b[1;33m]\u001b[0m\u001b[1;33m)\u001b[0m\u001b[1;33m\u001b[0m\u001b[1;33m\u001b[0m\u001b[0m\n\u001b[1;32m---> 37\u001b[1;33m     \u001b[0mprint\u001b[0m\u001b[1;33m(\u001b[0m\u001b[0mquestion\u001b[0m\u001b[1;33m[\u001b[0m\u001b[1;34m\"OP \"\u001b[0m\u001b[1;33m]\u001b[0m \u001b[1;33m[\u001b[0m\u001b[1;36m4\u001b[0m\u001b[1;33m]\u001b[0m\u001b[1;33m)\u001b[0m\u001b[1;33m\u001b[0m\u001b[1;33m\u001b[0m\u001b[0m\n\u001b[0m\u001b[0;32m     38\u001b[0m     \u001b[0mans\u001b[0m\u001b[1;33m=\u001b[0m\u001b[0minput\u001b[0m\u001b[1;33m(\u001b[0m\u001b[1;34m\"Enter option :\"\u001b[0m\u001b[1;33m)\u001b[0m\u001b[1;33m\u001b[0m\u001b[1;33m\u001b[0m\u001b[0m\n\u001b[0;32m     39\u001b[0m     \u001b[0mi\u001b[0m\u001b[1;33m=\u001b[0m\u001b[0mi\u001b[0m\u001b[1;33m+\u001b[0m\u001b[1;36m1\u001b[0m\u001b[1;33m\u001b[0m\u001b[1;33m\u001b[0m\u001b[0m\n",
      "\u001b[1;31mIndexError\u001b[0m: list index out of range"
     ]
    }
   ],
   "source": [
    "quiz=[\n",
    "    {\n",
    "        \n",
    "        \"Q )\" : \"the biggest mountain of pakistan is:\",\n",
    "        \"OP \" : [\"A)K-2\", \"B)HIMALAYA\", \"C)NANGA PARBAT\", \"D)MOUNT EVEREST\",],\n",
    "        \"ANS\": \"a\"},\n",
    "    {\n",
    "        \"Q )\": \"What year was the very first model of iphone released:\",\n",
    "        \"OP \" : [\"A)2010\", \"B) 2009\", \"C)2011\", \"D)2007\",],\n",
    "        \"ANS\": \"d\"\n",
    "        \n",
    "    },\n",
    "    {\n",
    "        \"Q )\" : \"Which continent is the largest in the world:\",\n",
    "        \"OP \" : [\"A)RUSSIA\", \"B)ASIA\", \"C)ANTARTICA\", \"D)AFRICA\",],\n",
    "        \"ANS\": \"b\"\n",
    "        \n",
    "    },\n",
    "    {\n",
    "        \"Q )\" : \"What is the name of the worlds longest river:\",\n",
    "        \"OP \" : [\"A)INDUS RIVER\", \"B)JEHLUM\", \"C)NILE\", \"D)CHENAB\",],\n",
    "        \"ANS\": \"c\"\n",
    "        \n",
    "    },\n",
    "    \n",
    "    \n",
    "    \n",
    "]\n",
    "mark=0\n",
    "i=0\n",
    "for question in quiz:\n",
    "    print(\"Q\",i+1,\")\",question[\"Q )\"])\n",
    "    print(question[\"OP \"] [0])\n",
    "    print(question[\"OP \"] [1])\n",
    "    print(question[\"OP \"] [2])\n",
    "    print(question[\"OP \"] [3])\n",
    "    print(question[\"OP \"] [4])\n",
    "    ans=input(\"Enter option :\")\n",
    "    i=i+1\n",
    "    \n",
    "    if (ans.lower()==question[\"ANS\"]):\n",
    "        print(\"Your Answer Is Correct\")\n",
    "        mark=mark+1\n",
    "    else:\n",
    "        print(\"Your Answer Is Incorrect\")\n",
    "print(\"Your Total Quiz Score :\",mark)\n",
    "    \n",
    "    \n",
    "        \n",
    "\n"
   ]
  },
  {
   "cell_type": "code",
   "execution_count": null,
   "metadata": {},
   "outputs": [],
   "source": []
  },
  {
   "cell_type": "code",
   "execution_count": null,
   "metadata": {},
   "outputs": [],
   "source": []
  }
 ],
 "metadata": {
  "kernelspec": {
   "display_name": "Python 3",
   "language": "python",
   "name": "python3"
  },
  "language_info": {
   "codemirror_mode": {
    "name": "ipython",
    "version": 3
   },
   "file_extension": ".py",
   "mimetype": "text/x-python",
   "name": "python",
   "nbconvert_exporter": "python",
   "pygments_lexer": "ipython3",
   "version": "3.7.6"
  }
 },
 "nbformat": 4,
 "nbformat_minor": 4
}
